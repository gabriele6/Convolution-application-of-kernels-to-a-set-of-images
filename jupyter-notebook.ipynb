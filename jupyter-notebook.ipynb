{
 "cells": [
  {
   "cell_type": "code",
   "execution_count": 1,
   "metadata": {},
   "outputs": [
    {
     "name": "stdout",
     "output_type": "stream",
     "text": [
      "Requirement already satisfied: opencv-python==4.2.0.34 in /opt/conda/lib/python3.7/site-packages (4.2.0.34)\n",
      "Requirement already satisfied: numpy>=1.14.5 in /opt/conda/lib/python3.7/site-packages (from opencv-python==4.2.0.34) (1.15.4)\n"
     ]
    }
   ],
   "source": [
    "!pip install opencv-python==4.2.0.34"
   ]
  },
  {
   "cell_type": "code",
   "execution_count": 1,
   "metadata": {},
   "outputs": [],
   "source": [
    "import numpy as np\n",
    "import cv2\n",
    "from PIL import Image\n",
    "import glob\n",
    "import os\n",
    "\n",
    "\n",
    "def convolution(image, kernel):\n",
    "\t#get input sizes\n",
    "\timgRows, imgCols = image.shape[0], image.shape[1]\n",
    "\tkerRows, kerCols = kernel.shape[0], kernel.shape[1]\n",
    "\n",
    "\t#create empty output matrix\n",
    "\toutRows = imgRows + kerRows - 1\n",
    "\toutCols = imgCols + kerCols - 1\n",
    "\tout = np.zeros((outRows, outCols))\n",
    "    \n",
    "\t#slide over every output cell to calculate its value\n",
    "\tfor currentOutRow in range(outRows):\n",
    "\t\tfor currentOutCol in range(outCols):\n",
    "\t\t\t#slide over every kernel cell to calculate the output value of the current cell\n",
    "\t\t\tfor currentKerRow in range(kerRows):\n",
    "\t\t\t\tfor currentKerCol in range(kerCols):\n",
    "\t\t\t\t\trowDiff = currentOutRow - currentKerRow #<---sliding bottom to top\n",
    "\t\t\t\t\tcolDiff = currentOutCol - currentKerCol #<---sliding right to left\n",
    "\t\t\t\t\tif (rowDiff >= 0) and (rowDiff < imgRows):\n",
    "\t\t\t\t\t\tif(colDiff >= 0) and (colDiff < imgCols):\n",
    "\t\t\t\t\t\t\toldOut = out[currentOutRow, currentOutCol]\n",
    "\t\t\t\t\t\t\tcurrentKer = kernel[currentKerRow, currentKerCol]\n",
    "\t\t\t\t\t\t\tcurrentImg = image[rowDiff, colDiff]\n",
    "\t\t\t\t\t\t\tout[currentOutRow, currentOutCol] = oldOut + (currentKer * currentImg)\n",
    "\treturn out\n",
    "\n",
    "\n",
    "def getKernel(filterName):\n",
    "\tif (filterName == \"sobel\"):\n",
    "\t\tfilterX = np.array(([-1, 0, 1],[-2, 0, 2],[-1, 0, 1]), dtype=\"int\")\n",
    "\t\tfilterY = np.array(([1, 2, 1],[0, 0, 0],[-1, -2, -1]), dtype=\"int\")\n",
    "\telif (filterName == \"prewitt\"):\n",
    "\t\tfilterX = np.array(([-1, 0, 1],[-1, 0, 1],[-1, 0, 1]), dtype=\"int\")\n",
    "\t\tfilterY = np.array(([1, 1, 1],[0, 0, 0],[-1, -1, -1]), dtype=\"int\")\n",
    "\telif (filterName == \"roberts\"):\n",
    "\t\tfilterX = np.array(([+1, 0],[0, -1]), dtype=\"int\")\n",
    "\t\tfilterY = np.array(([0, -1],[1, 0]), dtype=\"int\")\n",
    "\telif (filterName == \"blur\"):\n",
    "\t\tfilterX = np.array(([0.0625, 0.125, 0.0625],[0.125, 0.25, 0.125],[0.0625, 0.125, 0.0625]), dtype=\"float\")\n",
    "\t\tfilterY = np.array(([0, 0, 0],[0, 0, 0],[0, 0, 0]), dtype=\"int\")\n",
    "\telif (filterName == \"sharpen\"):\n",
    "\t\tfilterX = np.array(([0, -1, 0],[-1, 5, -1],[0, -1, 0]), dtype=\"int\")\n",
    "\t\tfilterY = np.array(([0, 0, 0],[0, 0, 0],[0, 0, 0]), dtype=\"int\")\n",
    "\telif (filterName == \"outline\"):\n",
    "\t\tfilterX = np.array(([-1, -1, -1],[-1, 8, -1],[-1, -1, -1]), dtype=\"int\")\n",
    "\t\tfilterY = np.array(([0, 0, 0],[0, 0, 0],[0, 0, 0]), dtype=\"int\")\n",
    "\treturn filterX, filterY\n",
    "\n",
    "\n",
    "def saveImage(folder, imgName, filterName, Gx, Gy, magnitude):\n",
    "\tcv2.imwrite(\"./\" + folder + \"/\" + imgName + \"_\" + filterName + \"_Gx.jpg\",Gx)\n",
    "\tcv2.imwrite(\"./\" + folder + \"/\" + imgName + \"_\" + filterName + \"_Gy.jpg\",Gy)\n",
    "\tcv2.imwrite(\"./\" + folder + \"/\" + imgName + \"_\" + filterName + \"_magnitude.jpg\",np.float32(magnitude))\n",
    "\n",
    "\n",
    "def computeImage(img, filterX, filterY):\n",
    "\tGx = convolution(img, filterX)\n",
    "\tGy = convolution(img, filterY)\n",
    "\tmagnitude = np.hypot(Gx, Gy)\n",
    "\treturn Gx, Gy, magnitude"
   ]
  },
  {
   "cell_type": "code",
   "execution_count": 2,
   "metadata": {},
   "outputs": [
    {
     "name": "stdout",
     "output_type": "stream",
     "text": [
      "Elaborating tree.bmp\n",
      "Elaborating face.bmp\n",
      "Convolution: Done!\n"
     ]
    }
   ],
   "source": [
    "#grabbing pictures in the folder\n",
    "folder = \"pics/\"\n",
    "images = ['tree', 'face']\n",
    "images = [os.path.basename(x) for x in glob.glob(folder + '*.bmp')]\n",
    "images = [os.path.splitext(x)[0] for x in images]\n",
    "\n",
    "for image in images:\n",
    "\tprint(\"Elaborating \" + image + \".bmp\")\n",
    "\timg = cv2.cvtColor(cv2.imread(\"./\" + folder + image + \".bmp\"), cv2.COLOR_BGR2GRAY)\n",
    "\n",
    "\t#apply filters and save images\n",
    "\tfilterX, filterY = getKernel(\"sobel\")\n",
    "\tGx, Gy, magnitude = computeImage(img, filterX, filterY)\n",
    "\tsaveImage(\"out\", image, \"sobel\", Gx, Gy, magnitude)\n",
    "    \n",
    "\tfilterX, filterY = getKernel(\"prewitt\")\n",
    "\tGx, Gy, magnitude = computeImage(img, filterX, filterY)\n",
    "\tsaveImage(\"out\", image, \"prewitt\", Gx, Gy, magnitude)\n",
    "\n",
    "\tfilterX, filterY = getKernel(\"roberts\")\n",
    "\tGx, Gy, magnitude = computeImage(img, filterX, filterY)\n",
    "\tsaveImage(\"out\", image, \"roberts\", Gx, Gy, magnitude)\n",
    "    \n",
    "\t#BONUS: blur, sharpen, outline filters\n",
    "\tfilterX, _ = getKernel(\"blur\")\n",
    "\tGx = convolution(img, filterX)\n",
    "\tcv2.imwrite(\"./out\" + \"/\" + image + \"_blur\" + \".jpg\",Gx)\n",
    "\tfilterX, _ = getKernel(\"sharpen\")\n",
    "\tGx = convolution(img, filterX)\n",
    "\tcv2.imwrite(\"./out\" + \"/\" + image + \"_sharpen\" + \".jpg\",Gx)\n",
    "\tfilterX, _ = getKernel(\"outline\")\n",
    "\tGx = convolution(img, filterX)\n",
    "\tcv2.imwrite(\"./out\" + \"/\" + image + \"_outline\" + \".jpg\",Gx)\n",
    "print(\"Convolution: Done!\")"
   ]
  },
  {
   "cell_type": "code",
   "execution_count": null,
   "metadata": {},
   "outputs": [],
   "source": []
  }
 ],
 "metadata": {
  "kernelspec": {
   "display_name": "Python 3",
   "language": "python",
   "name": "python3"
  },
  "language_info": {
   "codemirror_mode": {
    "name": "ipython",
    "version": 3
   },
   "file_extension": ".py",
   "mimetype": "text/x-python",
   "name": "python",
   "nbconvert_exporter": "python",
   "pygments_lexer": "ipython3",
   "version": "3.7.3"
  }
 },
 "nbformat": 4,
 "nbformat_minor": 4
}
